{
 "cells": [
  {
   "cell_type": "markdown",
   "id": "57e861ee-2a59-4056-a230-20dabe2476a3",
   "metadata": {},
   "source": [
    "# Logo Shade Changer\n",
    "\n",
    "Use case: you have a PNG image with a two colour gradient that you would like to change.\n",
    "\n",
    "When making my personal website, I created a logo file using a shade of black. I wanted to create the exact same logo using another of the site's colours (at time of writing '#87BCDE'). This version of the logo could be used as an alternate version of the logo or for use in a hover effect with the existing logo. \n",
    "\n",
    "Manipulation of image files is not my area of expertise, so I worked with chat GPT-4 to arrive at the following code."
   ]
  },
  {
   "cell_type": "code",
   "execution_count": null,
   "id": "4036d64a-5c46-4827-bb54-d1ea452783e5",
   "metadata": {},
   "outputs": [],
   "source": [
    "from PIL import ImageOps, Image\n",
    "\n",
    "# Specify your image path here\n",
    "input_image_path = '/path/to/your/image.png'\n",
    "\n",
    "# Specify where you'd like to save your colorized image\n",
    "output_image_path = '/path/to/save/your/colorized_image.png'\n",
    "\n",
    "# Open your image and convert it to grayscale\n",
    "# 'L' mode stands for 8-bit pixels, black and white\n",
    "image = Image.open(input_image_path).convert('L')\n",
    "\n",
    "# Use the colorize function to map black to a specific color and white to white\n",
    "# The color you map to black becomes the base color for your image, \n",
    "# with the original grayscale tones now represented as variations on that color.\n",
    "# Replace '#87BCDE' with any color you prefer\n",
    "base_color = '#87BCDE'\n",
    "\n",
    "# The color you map to white remains as the highlight color in your image. \n",
    "# You can replace '#ffffff' with any color you prefer, but to maintain the original \n",
    "# shading of your image, this is generally left as white.\n",
    "highlight_color = '#ffffff'\n",
    "\n",
    "colorized_image = ImageOps.colorize(image, base_color, highlight_color)\n",
    "\n",
    "# Save the colorized image\n",
    "colorized_image.save(output_image_path)"
   ]
  }
 ],
 "metadata": {
  "kernelspec": {
   "display_name": "Python 3 (ipykernel)",
   "language": "python",
   "name": "python3"
  },
  "language_info": {
   "codemirror_mode": {
    "name": "ipython",
    "version": 3
   },
   "file_extension": ".py",
   "mimetype": "text/x-python",
   "name": "python",
   "nbconvert_exporter": "python",
   "pygments_lexer": "ipython3",
   "version": "3.9.7"
  }
 },
 "nbformat": 4,
 "nbformat_minor": 5
}
